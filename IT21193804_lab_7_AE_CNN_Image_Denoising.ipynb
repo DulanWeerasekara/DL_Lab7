{
  "cells": [
    {
      "cell_type": "code",
      "execution_count": 1,
      "id": "f4340427",
      "metadata": {
        "id": "f4340427"
      },
      "outputs": [],
      "source": [
        "import matplotlib.pyplot as plt\n",
        "import numpy as np\n",
        "import pandas as pd\n",
        "import tensorflow as tf\n",
        "\n",
        "from sklearn.metrics import accuracy_score, precision_score, recall_score\n",
        "from sklearn.model_selection import train_test_split\n",
        "from tensorflow.keras import layers, losses\n",
        "from tensorflow.keras.datasets import fashion_mnist\n",
        "from tensorflow.keras.models import Model"
      ]
    },
    {
      "cell_type": "code",
      "execution_count": 2,
      "id": "a661149f",
      "metadata": {
        "colab": {
          "base_uri": "https://localhost:8080/"
        },
        "id": "a661149f",
        "outputId": "a00f91c2-e6da-4a2a-ed08-a54d3e12cc02"
      },
      "outputs": [
        {
          "output_type": "stream",
          "name": "stdout",
          "text": [
            "Downloading data from https://storage.googleapis.com/tensorflow/tf-keras-datasets/train-labels-idx1-ubyte.gz\n",
            "\u001b[1m29515/29515\u001b[0m \u001b[32m━━━━━━━━━━━━━━━━━━━━\u001b[0m\u001b[37m\u001b[0m \u001b[1m0s\u001b[0m 0us/step\n",
            "Downloading data from https://storage.googleapis.com/tensorflow/tf-keras-datasets/train-images-idx3-ubyte.gz\n",
            "\u001b[1m26421880/26421880\u001b[0m \u001b[32m━━━━━━━━━━━━━━━━━━━━\u001b[0m\u001b[37m\u001b[0m \u001b[1m1s\u001b[0m 0us/step\n",
            "Downloading data from https://storage.googleapis.com/tensorflow/tf-keras-datasets/t10k-labels-idx1-ubyte.gz\n",
            "\u001b[1m5148/5148\u001b[0m \u001b[32m━━━━━━━━━━━━━━━━━━━━\u001b[0m\u001b[37m\u001b[0m \u001b[1m0s\u001b[0m 0us/step\n",
            "Downloading data from https://storage.googleapis.com/tensorflow/tf-keras-datasets/t10k-images-idx3-ubyte.gz\n",
            "\u001b[1m4422102/4422102\u001b[0m \u001b[32m━━━━━━━━━━━━━━━━━━━━\u001b[0m\u001b[37m\u001b[0m \u001b[1m0s\u001b[0m 0us/step\n"
          ]
        }
      ],
      "source": [
        "(x_train, _), (x_test, _) = fashion_mnist.load_data()\n"
      ]
    },
    {
      "cell_type": "code",
      "execution_count": 3,
      "id": "23fc6f78",
      "metadata": {
        "id": "23fc6f78"
      },
      "outputs": [],
      "source": [
        "x_train = x_train.astype('float32') / 255.\n",
        "x_test = x_test.astype('float32') / 255.\n",
        "\n"
      ]
    },
    {
      "cell_type": "code",
      "execution_count": 4,
      "id": "1bdf4e3c",
      "metadata": {
        "colab": {
          "base_uri": "https://localhost:8080/"
        },
        "id": "1bdf4e3c",
        "outputId": "3070aa69-2e57-4a2a-b000-b4772bbd4295"
      },
      "outputs": [
        {
          "output_type": "stream",
          "name": "stdout",
          "text": [
            "(60000, 28, 28, 1)\n",
            "(10000, 28, 28, 1)\n"
          ]
        }
      ],
      "source": [
        "x_train = x_train[..., tf.newaxis] #adds a additional axis (60000,28,28) --> (60000,28,28,1)\n",
        "x_test = x_test[..., tf.newaxis]\n",
        "print(x_train.shape)\n",
        "print(x_test.shape)"
      ]
    },
    {
      "cell_type": "code",
      "execution_count": 5,
      "id": "37a6b423",
      "metadata": {
        "colab": {
          "base_uri": "https://localhost:8080/"
        },
        "collapsed": true,
        "id": "37a6b423",
        "outputId": "9e5e9564-6ab2-4de3-8681-e8e09fdece7b"
      },
      "outputs": [
        {
          "output_type": "execute_result",
          "data": {
            "text/plain": [
              "<tf.Tensor: shape=(60000, 28, 28, 1), dtype=float32, numpy=\n",
              "array([[[[-0.46804747],\n",
              "         [ 0.02434904],\n",
              "         [ 0.5597586 ],\n",
              "         ...,\n",
              "         [ 0.19175977],\n",
              "         [ 0.11121412],\n",
              "         [-0.5106652 ]],\n",
              "\n",
              "        [[ 0.18492347],\n",
              "         [ 0.8151804 ],\n",
              "         [ 0.36096543],\n",
              "         ...,\n",
              "         [ 0.5223539 ],\n",
              "         [ 0.2482025 ],\n",
              "         [ 0.1625012 ]],\n",
              "\n",
              "        [[ 1.0849489 ],\n",
              "         [-0.23058304],\n",
              "         [ 2.497338  ],\n",
              "         ...,\n",
              "         [ 0.13710502],\n",
              "         [-0.9607226 ],\n",
              "         [-0.51631796]],\n",
              "\n",
              "        ...,\n",
              "\n",
              "        [[-0.59489363],\n",
              "         [ 0.0844078 ],\n",
              "         [ 1.7249873 ],\n",
              "         ...,\n",
              "         [-0.43333688],\n",
              "         [-1.1623993 ],\n",
              "         [ 0.27028212]],\n",
              "\n",
              "        [[ 0.45109797],\n",
              "         [ 1.4027494 ],\n",
              "         [ 1.4557285 ],\n",
              "         ...,\n",
              "         [-0.7943309 ],\n",
              "         [-0.34346202],\n",
              "         [-1.2735996 ]],\n",
              "\n",
              "        [[ 1.0481181 ],\n",
              "         [ 1.6099782 ],\n",
              "         [-0.8050628 ],\n",
              "         ...,\n",
              "         [-0.29012942],\n",
              "         [-0.43444228],\n",
              "         [ 0.6719368 ]]],\n",
              "\n",
              "\n",
              "       [[[-0.38893664],\n",
              "         [ 0.23504911],\n",
              "         [-1.4608037 ],\n",
              "         ...,\n",
              "         [-1.1731541 ],\n",
              "         [ 0.81849957],\n",
              "         [ 0.1781575 ]],\n",
              "\n",
              "        [[ 0.03184201],\n",
              "         [-1.0843413 ],\n",
              "         [ 0.5125902 ],\n",
              "         ...,\n",
              "         [-1.1932409 ],\n",
              "         [ 0.13075379],\n",
              "         [ 0.07159572]],\n",
              "\n",
              "        [[ 0.3742902 ],\n",
              "         [-0.02773277],\n",
              "         [ 0.6413306 ],\n",
              "         ...,\n",
              "         [-0.7864644 ],\n",
              "         [-0.28991622],\n",
              "         [-0.9272465 ]],\n",
              "\n",
              "        ...,\n",
              "\n",
              "        [[-0.16007791],\n",
              "         [ 0.26654875],\n",
              "         [ 1.0338534 ],\n",
              "         ...,\n",
              "         [-0.04107249],\n",
              "         [ 0.64518696],\n",
              "         [-0.3565982 ]],\n",
              "\n",
              "        [[ 2.3483472 ],\n",
              "         [ 0.02590144],\n",
              "         [ 0.33761424],\n",
              "         ...,\n",
              "         [-0.88695043],\n",
              "         [-0.9910856 ],\n",
              "         [-0.9173494 ]],\n",
              "\n",
              "        [[-1.2025682 ],\n",
              "         [ 0.68757266],\n",
              "         [-0.64324194],\n",
              "         ...,\n",
              "         [-1.1630276 ],\n",
              "         [-1.2283329 ],\n",
              "         [-0.93145734]]],\n",
              "\n",
              "\n",
              "       [[[ 2.1379893 ],\n",
              "         [-0.20721571],\n",
              "         [-0.34953493],\n",
              "         ...,\n",
              "         [-1.2827166 ],\n",
              "         [-0.15548393],\n",
              "         [ 0.79657054]],\n",
              "\n",
              "        [[-0.472656  ],\n",
              "         [ 0.1270068 ],\n",
              "         [-1.833896  ],\n",
              "         ...,\n",
              "         [ 1.1658927 ],\n",
              "         [-0.7719729 ],\n",
              "         [ 0.90954417]],\n",
              "\n",
              "        [[-0.97494155],\n",
              "         [ 1.2684585 ],\n",
              "         [ 2.2181053 ],\n",
              "         ...,\n",
              "         [ 0.7764216 ],\n",
              "         [-0.7573682 ],\n",
              "         [ 0.16280742]],\n",
              "\n",
              "        ...,\n",
              "\n",
              "        [[ 0.39699173],\n",
              "         [-0.0230576 ],\n",
              "         [-2.5261064 ],\n",
              "         ...,\n",
              "         [-1.5542767 ],\n",
              "         [ 0.33456394],\n",
              "         [ 0.81073344]],\n",
              "\n",
              "        [[ 0.7467403 ],\n",
              "         [-0.563565  ],\n",
              "         [-0.43196255],\n",
              "         ...,\n",
              "         [-0.4460285 ],\n",
              "         [ 0.06912933],\n",
              "         [-0.86613417]],\n",
              "\n",
              "        [[-0.5925982 ],\n",
              "         [-0.82803386],\n",
              "         [-0.49321276],\n",
              "         ...,\n",
              "         [-0.6103761 ],\n",
              "         [-0.87308925],\n",
              "         [-0.3422722 ]]],\n",
              "\n",
              "\n",
              "       ...,\n",
              "\n",
              "\n",
              "       [[[-1.5455592 ],\n",
              "         [-0.17863342],\n",
              "         [ 0.5626009 ],\n",
              "         ...,\n",
              "         [ 0.91475445],\n",
              "         [ 0.41409332],\n",
              "         [ 1.2086313 ]],\n",
              "\n",
              "        [[-0.6463424 ],\n",
              "         [-0.12032488],\n",
              "         [ 0.14016011],\n",
              "         ...,\n",
              "         [-0.11237042],\n",
              "         [-1.1228938 ],\n",
              "         [-1.3680183 ]],\n",
              "\n",
              "        [[ 0.29234296],\n",
              "         [-0.12120508],\n",
              "         [ 0.47658622],\n",
              "         ...,\n",
              "         [ 2.2589204 ],\n",
              "         [ 0.58365345],\n",
              "         [-0.9249037 ]],\n",
              "\n",
              "        ...,\n",
              "\n",
              "        [[-0.18271038],\n",
              "         [-0.53992057],\n",
              "         [-1.1114814 ],\n",
              "         ...,\n",
              "         [-1.4132808 ],\n",
              "         [-1.3223492 ],\n",
              "         [ 0.3576745 ]],\n",
              "\n",
              "        [[-0.07917372],\n",
              "         [-0.21819998],\n",
              "         [ 0.47822225],\n",
              "         ...,\n",
              "         [ 0.17002207],\n",
              "         [-1.3237792 ],\n",
              "         [-0.90102005]],\n",
              "\n",
              "        [[ 0.57803464],\n",
              "         [ 0.45536953],\n",
              "         [ 1.0639961 ],\n",
              "         ...,\n",
              "         [ 0.44989848],\n",
              "         [ 1.0683643 ],\n",
              "         [-1.1508329 ]]],\n",
              "\n",
              "\n",
              "       [[[-0.1891318 ],\n",
              "         [ 1.6971749 ],\n",
              "         [ 0.18651861],\n",
              "         ...,\n",
              "         [ 0.7887329 ],\n",
              "         [ 2.4086912 ],\n",
              "         [ 0.68860024]],\n",
              "\n",
              "        [[ 0.68786913],\n",
              "         [ 0.1827646 ],\n",
              "         [ 0.08103381],\n",
              "         ...,\n",
              "         [-0.38105875],\n",
              "         [ 0.58804655],\n",
              "         [ 1.0114697 ]],\n",
              "\n",
              "        [[ 2.1234593 ],\n",
              "         [-0.08905032],\n",
              "         [-1.0358893 ],\n",
              "         ...,\n",
              "         [-1.2334279 ],\n",
              "         [-0.43740645],\n",
              "         [ 1.6462231 ]],\n",
              "\n",
              "        ...,\n",
              "\n",
              "        [[-1.0596014 ],\n",
              "         [-0.14754508],\n",
              "         [ 0.29787156],\n",
              "         ...,\n",
              "         [ 0.89059865],\n",
              "         [-1.3826104 ],\n",
              "         [-0.43592697]],\n",
              "\n",
              "        [[ 0.1332006 ],\n",
              "         [-1.305672  ],\n",
              "         [ 0.1153243 ],\n",
              "         ...,\n",
              "         [-1.8519652 ],\n",
              "         [ 1.3681562 ],\n",
              "         [-2.01659   ]],\n",
              "\n",
              "        [[ 0.28640968],\n",
              "         [-0.51855636],\n",
              "         [-0.4161927 ],\n",
              "         ...,\n",
              "         [-1.7979043 ],\n",
              "         [-0.4879978 ],\n",
              "         [ 1.5686603 ]]],\n",
              "\n",
              "\n",
              "       [[[ 0.90599304],\n",
              "         [-1.3042383 ],\n",
              "         [ 0.8820196 ],\n",
              "         ...,\n",
              "         [-0.693787  ],\n",
              "         [-0.22062291],\n",
              "         [ 0.52075523]],\n",
              "\n",
              "        [[-0.6735669 ],\n",
              "         [-1.6509761 ],\n",
              "         [ 0.43800223],\n",
              "         ...,\n",
              "         [ 1.2203544 ],\n",
              "         [ 0.7258846 ],\n",
              "         [-1.1015805 ]],\n",
              "\n",
              "        [[-0.50235593],\n",
              "         [ 0.04266227],\n",
              "         [ 1.6020296 ],\n",
              "         ...,\n",
              "         [ 0.6397011 ],\n",
              "         [-0.06936513],\n",
              "         [ 0.25214848]],\n",
              "\n",
              "        ...,\n",
              "\n",
              "        [[-0.80501205],\n",
              "         [-1.3349255 ],\n",
              "         [-0.7497931 ],\n",
              "         ...,\n",
              "         [-0.17509948],\n",
              "         [ 0.44454598],\n",
              "         [-1.5255352 ]],\n",
              "\n",
              "        [[-0.01136249],\n",
              "         [-0.0928204 ],\n",
              "         [ 1.4764428 ],\n",
              "         ...,\n",
              "         [-1.5538585 ],\n",
              "         [-0.4222495 ],\n",
              "         [ 0.14696328]],\n",
              "\n",
              "        [[-0.09035215],\n",
              "         [ 0.3966486 ],\n",
              "         [ 0.6977941 ],\n",
              "         ...,\n",
              "         [-0.03349026],\n",
              "         [-0.69054604],\n",
              "         [ 0.43202105]]]], dtype=float32)>"
            ]
          },
          "metadata": {},
          "execution_count": 5
        }
      ],
      "source": [
        "tf.random.normal(shape=x_train.shape)"
      ]
    },
    {
      "cell_type": "code",
      "execution_count": 46,
      "id": "c72771a1",
      "metadata": {
        "id": "c72771a1"
      },
      "outputs": [],
      "source": [
        "noise_factor = 0.01\n",
        "x_train_noisy = x_train  +  noise_factor * tf.random.normal(shape=x_train.shape)\n",
        "# noise factor multiplication result in increased spread in noise distribution\n",
        "# result in 0.2^2 increase of variance, mean doesn't chnage (mean = 0)\n",
        "x_test_noisy = x_test  +  noise_factor * tf.random.normal(shape=x_test.shape)\n",
        "\n",
        "x_train_noisy = tf.clip_by_value(x_train_noisy, clip_value_min=0., clip_value_max=1.)\n",
        "x_test_noisy = tf.clip_by_value(x_test_noisy, clip_value_min=0., clip_value_max=1.)"
      ]
    },
    {
      "cell_type": "code",
      "execution_count": 47,
      "id": "ec07ada1",
      "metadata": {
        "colab": {
          "base_uri": "https://localhost:8080/"
        },
        "id": "ec07ada1",
        "outputId": "408eb712-ad3d-48da-da6f-48479432cfef"
      },
      "outputs": [
        {
          "output_type": "execute_result",
          "data": {
            "text/plain": [
              "TensorShape([10000, 28, 28, 1])"
            ]
          },
          "metadata": {},
          "execution_count": 47
        }
      ],
      "source": [
        "x_test_noisy.shape"
      ]
    },
    {
      "cell_type": "code",
      "execution_count": 48,
      "id": "161649e1",
      "metadata": {
        "colab": {
          "base_uri": "https://localhost:8080/",
          "height": 214
        },
        "id": "161649e1",
        "outputId": "34ab5b7e-5cd9-4314-ce26-192cf9f9b0bf"
      },
      "outputs": [
        {
          "output_type": "display_data",
          "data": {
            "text/plain": [
              "<Figure size 2000x200 with 10 Axes>"
            ],
            "image/png": "[encoded data removed]"
          },
          "metadata": {}
        }
      ],
      "source": [
        "n = 10\n",
        "plt.figure(figsize=(20, 2))\n",
        "for i in range(n):\n",
        "    ax = plt.subplot(1, n, i + 1)\n",
        "    plt.title(\"original + noise\")\n",
        "    plt.imshow(tf.squeeze(x_test_noisy[i]))\n",
        "    plt.gray()\n",
        "plt.show()"
      ]
    },
    {
      "cell_type": "code",
      "execution_count": 49,
      "id": "6c314ba6",
      "metadata": {
        "id": "6c314ba6"
      },
      "outputs": [],
      "source": [
        "class Denoise(Model):\n",
        "    def __init__(self):\n",
        "        super(Denoise, self).__init__()\n",
        "        self.encoder = tf.keras.Sequential([\n",
        "          layers.Input(shape=(28, 28, 1)),\n",
        "          layers.Conv2D(16, (3, 3), activation='relu', padding='same', strides=2),\n",
        "          layers.Conv2D(8, (3, 3), activation='relu', padding='same', strides=2)])\n",
        "\n",
        "        self.decoder = tf.keras.Sequential([\n",
        "          layers.Conv2DTranspose(8, kernel_size=3, strides=2, activation='relu', padding='same'),\n",
        "          layers.Conv2DTranspose(16, kernel_size=3, strides=2, activation='relu', padding='same'),\n",
        "          layers.Conv2D(1, kernel_size=(3, 3), activation='sigmoid', padding='same')])\n",
        "\n",
        "    def call(self, x):\n",
        "        encoded = self.encoder(x)\n",
        "        decoded = self.decoder(encoded)\n",
        "        return decoded\n"
      ]
    },
    {
      "cell_type": "code",
      "execution_count": 50,
      "id": "96d17937",
      "metadata": {
        "id": "96d17937"
      },
      "outputs": [],
      "source": [
        "autoencoder = Denoise()"
      ]
    },
    {
      "cell_type": "code",
      "execution_count": 51,
      "id": "91cb12a5",
      "metadata": {
        "id": "91cb12a5"
      },
      "outputs": [],
      "source": [
        "autoencoder.compile(optimizer='adam', loss=losses.MeanSquaredError())"
      ]
    },
    {
      "cell_type": "code",
      "execution_count": 52,
      "id": "6dd35cd4",
      "metadata": {
        "colab": {
          "base_uri": "https://localhost:8080/"
        },
        "id": "6dd35cd4",
        "outputId": "efa091e0-f677-4a5d-92f4-64d0b4388d4e"
      },
      "outputs": [
        {
          "output_type": "stream",
          "name": "stdout",
          "text": [
            "Epoch 1/30\n",
            "\u001b[1m1875/1875\u001b[0m \u001b[32m━━━━━━━━━━━━━━━━━━━━\u001b[0m\u001b[37m\u001b[0m \u001b[1m73s\u001b[0m 38ms/step - loss: 0.0290 - val_loss: 0.0050\n",
            "Epoch 2/30\n",
            "\u001b[1m1875/1875\u001b[0m \u001b[32m━━━━━━━━━━━━━━━━━━━━\u001b[0m\u001b[37m\u001b[0m \u001b[1m82s\u001b[0m 38ms/step - loss: 0.0044 - val_loss: 0.0034\n",
            "Epoch 3/30\n",
            "\u001b[1m1875/1875\u001b[0m \u001b[32m━━━━━━━━━━━━━━━━━━━━\u001b[0m\u001b[37m\u001b[0m \u001b[1m82s\u001b[0m 38ms/step - loss: 0.0033 - val_loss: 0.0030\n",
            "Epoch 4/30\n",
            "\u001b[1m1875/1875\u001b[0m \u001b[32m━━━━━━━━━━━━━━━━━━━━\u001b[0m\u001b[37m\u001b[0m \u001b[1m72s\u001b[0m 38ms/step - loss: 0.0029 - val_loss: 0.0027\n",
            "Epoch 5/30\n",
            "\u001b[1m1875/1875\u001b[0m \u001b[32m━━━━━━━━━━━━━━━━━━━━\u001b[0m\u001b[37m\u001b[0m \u001b[1m72s\u001b[0m 38ms/step - loss: 0.0026 - val_loss: 0.0025\n",
            "Epoch 6/30\n",
            "\u001b[1m1875/1875\u001b[0m \u001b[32m━━━━━━━━━━━━━━━━━━━━\u001b[0m\u001b[37m\u001b[0m \u001b[1m82s\u001b[0m 39ms/step - loss: 0.0025 - val_loss: 0.0024\n",
            "Epoch 7/30\n",
            "\u001b[1m1875/1875\u001b[0m \u001b[32m━━━━━━━━━━━━━━━━━━━━\u001b[0m\u001b[37m\u001b[0m \u001b[1m81s\u001b[0m 38ms/step - loss: 0.0023 - val_loss: 0.0023\n",
            "Epoch 8/30\n",
            "\u001b[1m1875/1875\u001b[0m \u001b[32m━━━━━━━━━━━━━━━━━━━━\u001b[0m\u001b[37m\u001b[0m \u001b[1m90s\u001b[0m 43ms/step - loss: 0.0023 - val_loss: 0.0023\n",
            "Epoch 9/30\n",
            "\u001b[1m1875/1875\u001b[0m \u001b[32m━━━━━━━━━━━━━━━━━━━━\u001b[0m\u001b[37m\u001b[0m \u001b[1m74s\u001b[0m 39ms/step - loss: 0.0022 - val_loss: 0.0021\n",
            "Epoch 10/30\n",
            "\u001b[1m1875/1875\u001b[0m \u001b[32m━━━━━━━━━━━━━━━━━━━━\u001b[0m\u001b[37m\u001b[0m \u001b[1m81s\u001b[0m 38ms/step - loss: 0.0022 - val_loss: 0.0021\n",
            "Epoch 11/30\n",
            "\u001b[1m1875/1875\u001b[0m \u001b[32m━━━━━━━━━━━━━━━━━━━━\u001b[0m\u001b[37m\u001b[0m \u001b[1m74s\u001b[0m 39ms/step - loss: 0.0021 - val_loss: 0.0021\n",
            "Epoch 12/30\n",
            "\u001b[1m1875/1875\u001b[0m \u001b[32m━━━━━━━━━━━━━━━━━━━━\u001b[0m\u001b[37m\u001b[0m \u001b[1m81s\u001b[0m 39ms/step - loss: 0.0020 - val_loss: 0.0020\n",
            "Epoch 13/30\n",
            "\u001b[1m1875/1875\u001b[0m \u001b[32m━━━━━━━━━━━━━━━━━━━━\u001b[0m\u001b[37m\u001b[0m \u001b[1m73s\u001b[0m 39ms/step - loss: 0.0020 - val_loss: 0.0020\n",
            "Epoch 14/30\n",
            "\u001b[1m1875/1875\u001b[0m \u001b[32m━━━━━━━━━━━━━━━━━━━━\u001b[0m\u001b[37m\u001b[0m \u001b[1m84s\u001b[0m 40ms/step - loss: 0.0020 - val_loss: 0.0021\n",
            "Epoch 15/30\n",
            "\u001b[1m1875/1875\u001b[0m \u001b[32m━━━━━━━━━━━━━━━━━━━━\u001b[0m\u001b[37m\u001b[0m \u001b[1m79s\u001b[0m 38ms/step - loss: 0.0020 - val_loss: 0.0020\n",
            "Epoch 16/30\n",
            "\u001b[1m1875/1875\u001b[0m \u001b[32m━━━━━━━━━━━━━━━━━━━━\u001b[0m\u001b[37m\u001b[0m \u001b[1m82s\u001b[0m 39ms/step - loss: 0.0020 - val_loss: 0.0020\n",
            "Epoch 17/30\n",
            "\u001b[1m1875/1875\u001b[0m \u001b[32m━━━━━━━━━━━━━━━━━━━━\u001b[0m\u001b[37m\u001b[0m \u001b[1m82s\u001b[0m 38ms/step - loss: 0.0020 - val_loss: 0.0019\n",
            "Epoch 18/30\n",
            "\u001b[1m1875/1875\u001b[0m \u001b[32m━━━━━━━━━━━━━━━━━━━━\u001b[0m\u001b[37m\u001b[0m \u001b[1m82s\u001b[0m 38ms/step - loss: 0.0019 - val_loss: 0.0020\n",
            "Epoch 19/30\n",
            "\u001b[1m1875/1875\u001b[0m \u001b[32m━━━━━━━━━━━━━━━━━━━━\u001b[0m\u001b[37m\u001b[0m \u001b[1m72s\u001b[0m 38ms/step - loss: 0.0019 - val_loss: 0.0019\n",
            "Epoch 20/30\n",
            "\u001b[1m1875/1875\u001b[0m \u001b[32m━━━━━━━━━━━━━━━━━━━━\u001b[0m\u001b[37m\u001b[0m \u001b[1m82s\u001b[0m 39ms/step - loss: 0.0019 - val_loss: 0.0019\n",
            "Epoch 21/30\n",
            "\u001b[1m1875/1875\u001b[0m \u001b[32m━━━━━━━━━━━━━━━━━━━━\u001b[0m\u001b[37m\u001b[0m \u001b[1m81s\u001b[0m 38ms/step - loss: 0.0019 - val_loss: 0.0019\n",
            "Epoch 22/30\n",
            "\u001b[1m1875/1875\u001b[0m \u001b[32m━━━━━━━━━━━━━━━━━━━━\u001b[0m\u001b[37m\u001b[0m \u001b[1m82s\u001b[0m 39ms/step - loss: 0.0019 - val_loss: 0.0019\n",
            "Epoch 23/30\n",
            "\u001b[1m1875/1875\u001b[0m \u001b[32m━━━━━━━━━━━━━━━━━━━━\u001b[0m\u001b[37m\u001b[0m \u001b[1m82s\u001b[0m 39ms/step - loss: 0.0019 - val_loss: 0.0019\n",
            "Epoch 24/30\n",
            "\u001b[1m1875/1875\u001b[0m \u001b[32m━━━━━━━━━━━━━━━━━━━━\u001b[0m\u001b[37m\u001b[0m \u001b[1m84s\u001b[0m 40ms/step - loss: 0.0019 - val_loss: 0.0019\n",
            "Epoch 25/30\n",
            "\u001b[1m1875/1875\u001b[0m \u001b[32m━━━━━━━━━━━━━━━━━━━━\u001b[0m\u001b[37m\u001b[0m \u001b[1m79s\u001b[0m 38ms/step - loss: 0.0019 - val_loss: 0.0019\n",
            "Epoch 26/30\n",
            "\u001b[1m1875/1875\u001b[0m \u001b[32m━━━━━━━━━━━━━━━━━━━━\u001b[0m\u001b[37m\u001b[0m \u001b[1m83s\u001b[0m 39ms/step - loss: 0.0019 - val_loss: 0.0019\n",
            "Epoch 27/30\n",
            "\u001b[1m1875/1875\u001b[0m \u001b[32m━━━━━━━━━━━━━━━━━━━━\u001b[0m\u001b[37m\u001b[0m \u001b[1m82s\u001b[0m 39ms/step - loss: 0.0019 - val_loss: 0.0019\n",
            "Epoch 28/30\n",
            "\u001b[1m1875/1875\u001b[0m \u001b[32m━━━━━━━━━━━━━━━━━━━━\u001b[0m\u001b[37m\u001b[0m \u001b[1m72s\u001b[0m 38ms/step - loss: 0.0018 - val_loss: 0.0019\n",
            "Epoch 29/30\n",
            "\u001b[1m1875/1875\u001b[0m \u001b[32m━━━━━━━━━━━━━━━━━━━━\u001b[0m\u001b[37m\u001b[0m \u001b[1m82s\u001b[0m 38ms/step - loss: 0.0019 - val_loss: 0.0018\n",
            "Epoch 30/30\n",
            "\u001b[1m1875/1875\u001b[0m \u001b[32m━━━━━━━━━━━━━━━━━━━━\u001b[0m\u001b[37m\u001b[0m \u001b[1m82s\u001b[0m 39ms/step - loss: 0.0018 - val_loss: 0.0018\n"
          ]
        }
      ],
      "source": [
        "history=autoencoder.fit(x_train_noisy, x_train,\n",
        "                epochs=30,\n",
        "                shuffle=True,\n",
        "                validation_data=(x_test_noisy, x_test))"
      ]
    },
    {
      "cell_type": "code",
      "execution_count": 53,
      "id": "3f821613",
      "metadata": {
        "colab": {
          "base_uri": "https://localhost:8080/",
          "height": 193
        },
        "id": "3f821613",
        "outputId": "57e719ce-f589-434c-e5e1-d0201df811c1"
      },
      "outputs": [
        {
          "output_type": "display_data",
          "data": {
            "text/plain": [
              "\u001b[1mModel: \"sequential_6\"\u001b[0m\n"
            ],
            "text/html": [
              "<pre style=\"white-space:pre;overflow-x:auto;line-height:normal;font-family:Menlo,'DejaVu Sans Mono',consolas,'Courier New',monospace\"><span style=\"font-weight: bold\">Model: \"sequential_6\"</span>\n",
              "</pre>\n"
            ]
          },
          "metadata": {}
        },
        {
          "output_type": "display_data",
          "data": {
            "text/plain": [
              "┏━━━━━━━━━━━━━━━━━━━━━━━━━━━━━━━━━━━━━━┳━━━━━━━━━━━━━━━━━━━━━━━━━━━━━┳━━━━━━━━━━━━━━━━━┓\n",
              "┃\u001b[1m \u001b[0m\u001b[1mLayer (type)                        \u001b[0m\u001b[1m \u001b[0m┃\u001b[1m \u001b[0m\u001b[1mOutput Shape               \u001b[0m\u001b[1m \u001b[0m┃\u001b[1m \u001b[0m\u001b[1m        Param #\u001b[0m\u001b[1m \u001b[0m┃\n",
              "┡━━━━━━━━━━━━━━━━━━━━━━━━━━━━━━━━━━━━━━╇━━━━━━━━━━━━━━━━━━━━━━━━━━━━━╇━━━━━━━━━━━━━━━━━┩\n",
              "│ conv2d_9 (\u001b[38;5;33mConv2D\u001b[0m)                    │ (\u001b[38;5;45mNone\u001b[0m, \u001b[38;5;34m14\u001b[0m, \u001b[38;5;34m14\u001b[0m, \u001b[38;5;34m16\u001b[0m)          │             \u001b[38;5;34m160\u001b[0m │\n",
              "├──────────────────────────────────────┼─────────────────────────────┼─────────────────┤\n",
              "│ conv2d_10 (\u001b[38;5;33mConv2D\u001b[0m)                   │ (\u001b[38;5;45mNone\u001b[0m, \u001b[38;5;34m7\u001b[0m, \u001b[38;5;34m7\u001b[0m, \u001b[38;5;34m8\u001b[0m)             │           \u001b[38;5;34m1,160\u001b[0m │\n",
              "└──────────────────────────────────────┴─────────────────────────────┴─────────────────┘\n"
            ],
            "text/html": [
              "<pre style=\"white-space:pre;overflow-x:auto;line-height:normal;font-family:Menlo,'DejaVu Sans Mono',consolas,'Courier New',monospace\">┏━━━━━━━━━━━━━━━━━━━━━━━━━━━━━━━━━━━━━━┳━━━━━━━━━━━━━━━━━━━━━━━━━━━━━┳━━━━━━━━━━━━━━━━━┓\n",
              "┃<span style=\"font-weight: bold\"> Layer (type)                         </span>┃<span style=\"font-weight: bold\"> Output Shape                </span>┃<span style=\"font-weight: bold\">         Param # </span>┃\n",
              "┡━━━━━━━━━━━━━━━━━━━━━━━━━━━━━━━━━━━━━━╇━━━━━━━━━━━━━━━━━━━━━━━━━━━━━╇━━━━━━━━━━━━━━━━━┩\n",
              "│ conv2d_9 (<span style=\"color: #0087ff; text-decoration-color: #0087ff\">Conv2D</span>)                    │ (<span style=\"color: #00d7ff; text-decoration-color: #00d7ff\">None</span>, <span style=\"color: #00af00; text-decoration-color: #00af00\">14</span>, <span style=\"color: #00af00; text-decoration-color: #00af00\">14</span>, <span style=\"color: #00af00; text-decoration-color: #00af00\">16</span>)          │             <span style=\"color: #00af00; text-decoration-color: #00af00\">160</span> │\n",
              "├──────────────────────────────────────┼─────────────────────────────┼─────────────────┤\n",
              "│ conv2d_10 (<span style=\"color: #0087ff; text-decoration-color: #0087ff\">Conv2D</span>)                   │ (<span style=\"color: #00d7ff; text-decoration-color: #00d7ff\">None</span>, <span style=\"color: #00af00; text-decoration-color: #00af00\">7</span>, <span style=\"color: #00af00; text-decoration-color: #00af00\">7</span>, <span style=\"color: #00af00; text-decoration-color: #00af00\">8</span>)             │           <span style=\"color: #00af00; text-decoration-color: #00af00\">1,160</span> │\n",
              "└──────────────────────────────────────┴─────────────────────────────┴─────────────────┘\n",
              "</pre>\n"
            ]
          },
          "metadata": {}
        },
        {
          "output_type": "display_data",
          "data": {
            "text/plain": [
              "\u001b[1m Total params: \u001b[0m\u001b[38;5;34m1,320\u001b[0m (5.16 KB)\n"
            ],
            "text/html": [
              "<pre style=\"white-space:pre;overflow-x:auto;line-height:normal;font-family:Menlo,'DejaVu Sans Mono',consolas,'Courier New',monospace\"><span style=\"font-weight: bold\"> Total params: </span><span style=\"color: #00af00; text-decoration-color: #00af00\">1,320</span> (5.16 KB)\n",
              "</pre>\n"
            ]
          },
          "metadata": {}
        },
        {
          "output_type": "display_data",
          "data": {
            "text/plain": [
              "\u001b[1m Trainable params: \u001b[0m\u001b[38;5;34m1,320\u001b[0m (5.16 KB)\n"
            ],
            "text/html": [
              "<pre style=\"white-space:pre;overflow-x:auto;line-height:normal;font-family:Menlo,'DejaVu Sans Mono',consolas,'Courier New',monospace\"><span style=\"font-weight: bold\"> Trainable params: </span><span style=\"color: #00af00; text-decoration-color: #00af00\">1,320</span> (5.16 KB)\n",
              "</pre>\n"
            ]
          },
          "metadata": {}
        },
        {
          "output_type": "display_data",
          "data": {
            "text/plain": [
              "\u001b[1m Non-trainable params: \u001b[0m\u001b[38;5;34m0\u001b[0m (0.00 B)\n"
            ],
            "text/html": [
              "<pre style=\"white-space:pre;overflow-x:auto;line-height:normal;font-family:Menlo,'DejaVu Sans Mono',consolas,'Courier New',monospace\"><span style=\"font-weight: bold\"> Non-trainable params: </span><span style=\"color: #00af00; text-decoration-color: #00af00\">0</span> (0.00 B)\n",
              "</pre>\n"
            ]
          },
          "metadata": {}
        }
      ],
      "source": [
        "autoencoder.encoder.summary()\n"
      ]
    },
    {
      "cell_type": "code",
      "execution_count": 54,
      "id": "499a50d1",
      "metadata": {
        "colab": {
          "base_uri": "https://localhost:8080/",
          "height": 225
        },
        "id": "499a50d1",
        "outputId": "4653c026-e8f6-43c1-ec1d-06378e7b66dc"
      },
      "outputs": [
        {
          "output_type": "display_data",
          "data": {
            "text/plain": [
              "\u001b[1mModel: \"sequential_7\"\u001b[0m\n"
            ],
            "text/html": [
              "<pre style=\"white-space:pre;overflow-x:auto;line-height:normal;font-family:Menlo,'DejaVu Sans Mono',consolas,'Courier New',monospace\"><span style=\"font-weight: bold\">Model: \"sequential_7\"</span>\n",
              "</pre>\n"
            ]
          },
          "metadata": {}
        },
        {
          "output_type": "display_data",
          "data": {
            "text/plain": [
              "┏━━━━━━━━━━━━━━━━━━━━━━━━━━━━━━━━━━━━━━┳━━━━━━━━━━━━━━━━━━━━━━━━━━━━━┳━━━━━━━━━━━━━━━━━┓\n",
              "┃\u001b[1m \u001b[0m\u001b[1mLayer (type)                        \u001b[0m\u001b[1m \u001b[0m┃\u001b[1m \u001b[0m\u001b[1mOutput Shape               \u001b[0m\u001b[1m \u001b[0m┃\u001b[1m \u001b[0m\u001b[1m        Param #\u001b[0m\u001b[1m \u001b[0m┃\n",
              "┡━━━━━━━━━━━━━━━━━━━━━━━━━━━━━━━━━━━━━━╇━━━━━━━━━━━━━━━━━━━━━━━━━━━━━╇━━━━━━━━━━━━━━━━━┩\n",
              "│ conv2d_transpose_6 (\u001b[38;5;33mConv2DTranspose\u001b[0m) │ (\u001b[38;5;34m32\u001b[0m, \u001b[38;5;34m14\u001b[0m, \u001b[38;5;34m14\u001b[0m, \u001b[38;5;34m8\u001b[0m)             │             \u001b[38;5;34m584\u001b[0m │\n",
              "├──────────────────────────────────────┼─────────────────────────────┼─────────────────┤\n",
              "│ conv2d_transpose_7 (\u001b[38;5;33mConv2DTranspose\u001b[0m) │ (\u001b[38;5;34m32\u001b[0m, \u001b[38;5;34m28\u001b[0m, \u001b[38;5;34m28\u001b[0m, \u001b[38;5;34m16\u001b[0m)            │           \u001b[38;5;34m1,168\u001b[0m │\n",
              "├──────────────────────────────────────┼─────────────────────────────┼─────────────────┤\n",
              "│ conv2d_11 (\u001b[38;5;33mConv2D\u001b[0m)                   │ (\u001b[38;5;34m32\u001b[0m, \u001b[38;5;34m28\u001b[0m, \u001b[38;5;34m28\u001b[0m, \u001b[38;5;34m1\u001b[0m)             │             \u001b[38;5;34m145\u001b[0m │\n",
              "└──────────────────────────────────────┴─────────────────────────────┴─────────────────┘\n"
            ],
            "text/html": [
              "<pre style=\"white-space:pre;overflow-x:auto;line-height:normal;font-family:Menlo,'DejaVu Sans Mono',consolas,'Courier New',monospace\">┏━━━━━━━━━━━━━━━━━━━━━━━━━━━━━━━━━━━━━━┳━━━━━━━━━━━━━━━━━━━━━━━━━━━━━┳━━━━━━━━━━━━━━━━━┓\n",
              "┃<span style=\"font-weight: bold\"> Layer (type)                         </span>┃<span style=\"font-weight: bold\"> Output Shape                </span>┃<span style=\"font-weight: bold\">         Param # </span>┃\n",
              "┡━━━━━━━━━━━━━━━━━━━━━━━━━━━━━━━━━━━━━━╇━━━━━━━━━━━━━━━━━━━━━━━━━━━━━╇━━━━━━━━━━━━━━━━━┩\n",
              "│ conv2d_transpose_6 (<span style=\"color: #0087ff; text-decoration-color: #0087ff\">Conv2DTranspose</span>) │ (<span style=\"color: #00af00; text-decoration-color: #00af00\">32</span>, <span style=\"color: #00af00; text-decoration-color: #00af00\">14</span>, <span style=\"color: #00af00; text-decoration-color: #00af00\">14</span>, <span style=\"color: #00af00; text-decoration-color: #00af00\">8</span>)             │             <span style=\"color: #00af00; text-decoration-color: #00af00\">584</span> │\n",
              "├──────────────────────────────────────┼─────────────────────────────┼─────────────────┤\n",
              "│ conv2d_transpose_7 (<span style=\"color: #0087ff; text-decoration-color: #0087ff\">Conv2DTranspose</span>) │ (<span style=\"color: #00af00; text-decoration-color: #00af00\">32</span>, <span style=\"color: #00af00; text-decoration-color: #00af00\">28</span>, <span style=\"color: #00af00; text-decoration-color: #00af00\">28</span>, <span style=\"color: #00af00; text-decoration-color: #00af00\">16</span>)            │           <span style=\"color: #00af00; text-decoration-color: #00af00\">1,168</span> │\n",
              "├──────────────────────────────────────┼─────────────────────────────┼─────────────────┤\n",
              "│ conv2d_11 (<span style=\"color: #0087ff; text-decoration-color: #0087ff\">Conv2D</span>)                   │ (<span style=\"color: #00af00; text-decoration-color: #00af00\">32</span>, <span style=\"color: #00af00; text-decoration-color: #00af00\">28</span>, <span style=\"color: #00af00; text-decoration-color: #00af00\">28</span>, <span style=\"color: #00af00; text-decoration-color: #00af00\">1</span>)             │             <span style=\"color: #00af00; text-decoration-color: #00af00\">145</span> │\n",
              "└──────────────────────────────────────┴─────────────────────────────┴─────────────────┘\n",
              "</pre>\n"
            ]
          },
          "metadata": {}
        },
        {
          "output_type": "display_data",
          "data": {
            "text/plain": [
              "\u001b[1m Total params: \u001b[0m\u001b[38;5;34m1,897\u001b[0m (7.41 KB)\n"
            ],
            "text/html": [
              "<pre style=\"white-space:pre;overflow-x:auto;line-height:normal;font-family:Menlo,'DejaVu Sans Mono',consolas,'Courier New',monospace\"><span style=\"font-weight: bold\"> Total params: </span><span style=\"color: #00af00; text-decoration-color: #00af00\">1,897</span> (7.41 KB)\n",
              "</pre>\n"
            ]
          },
          "metadata": {}
        },
        {
          "output_type": "display_data",
          "data": {
            "text/plain": [
              "\u001b[1m Trainable params: \u001b[0m\u001b[38;5;34m1,897\u001b[0m (7.41 KB)\n"
            ],
            "text/html": [
              "<pre style=\"white-space:pre;overflow-x:auto;line-height:normal;font-family:Menlo,'DejaVu Sans Mono',consolas,'Courier New',monospace\"><span style=\"font-weight: bold\"> Trainable params: </span><span style=\"color: #00af00; text-decoration-color: #00af00\">1,897</span> (7.41 KB)\n",
              "</pre>\n"
            ]
          },
          "metadata": {}
        },
        {
          "output_type": "display_data",
          "data": {
            "text/plain": [
              "\u001b[1m Non-trainable params: \u001b[0m\u001b[38;5;34m0\u001b[0m (0.00 B)\n"
            ],
            "text/html": [
              "<pre style=\"white-space:pre;overflow-x:auto;line-height:normal;font-family:Menlo,'DejaVu Sans Mono',consolas,'Courier New',monospace\"><span style=\"font-weight: bold\"> Non-trainable params: </span><span style=\"color: #00af00; text-decoration-color: #00af00\">0</span> (0.00 B)\n",
              "</pre>\n"
            ]
          },
          "metadata": {}
        }
      ],
      "source": [
        "autoencoder.decoder.summary()\n"
      ]
    },
    {
      "cell_type": "code",
      "execution_count": 55,
      "id": "8ceec97e",
      "metadata": {
        "id": "8ceec97e"
      },
      "outputs": [],
      "source": [
        "encoded_imgs = autoencoder.encoder(x_test_noisy).numpy()\n",
        "decoded_imgs = autoencoder.decoder(encoded_imgs).numpy()"
      ]
    },
    {
      "cell_type": "code",
      "execution_count": 56,
      "id": "510db41a",
      "metadata": {
        "colab": {
          "base_uri": "https://localhost:8080/",
          "height": 516
        },
        "id": "510db41a",
        "outputId": "88882862-12ac-4643-89b0-0c571b02bc58"
      },
      "outputs": [
        {
          "output_type": "display_data",
          "data": {
            "text/plain": [
              "<Figure size 2000x600 with 30 Axes>"
            ],
            "image/png": "[encoded data removed]"
          },
          "metadata": {}
        }
      ],
      "source": [
        "n = 10\n",
        "plt.figure(figsize=(20, 6))\n",
        "for i in range(n):\n",
        "    # display original\n",
        "    ax = plt.subplot(3, n, i + 1)\n",
        "    plt.title(\"original\")\n",
        "    plt.imshow(tf.squeeze(x_test[i]))\n",
        "    plt.gray()\n",
        "    ax.get_xaxis().set_visible(False)\n",
        "    ax.get_yaxis().set_visible(False)\n",
        "\n",
        "    # display original + noise\n",
        "    ax = plt.subplot(3, n, i + n + 1)\n",
        "    plt.title(\"original + noise\")\n",
        "    plt.imshow(tf.squeeze(x_test_noisy[i]))\n",
        "    plt.gray()\n",
        "    ax.get_xaxis().set_visible(False)\n",
        "    ax.get_yaxis().set_visible(False)\n",
        "\n",
        "    # display reconstruction\n",
        "    bx = plt.subplot(3, n, i + 2*n + 1)\n",
        "    plt.title(\"reconstructed\")\n",
        "    plt.imshow(tf.squeeze(decoded_imgs[i]))\n",
        "    plt.gray()\n",
        "    bx.get_xaxis().set_visible(False)\n",
        "    bx.get_yaxis().set_visible(False)\n",
        "plt.show()"
      ]
    },
    {
      "cell_type": "code",
      "source": [
        "test_loss = autoencoder.evaluate(x_test, x_test, verbose=0)\n",
        "print(f'Test Loss (MSE): {test_loss}')\n"
      ],
      "metadata": {
        "colab": {
          "base_uri": "https://localhost:8080/"
        },
        "id": "zO6dWT4r287p",
        "outputId": "ffa6eac8-96c6-4289-e3fe-e3f77444f323"
      },
      "id": "zO6dWT4r287p",
      "execution_count": 57,
      "outputs": [
        {
          "output_type": "stream",
          "name": "stdout",
          "text": [
            "Test Loss (MSE): 0.0018285837722942233\n"
          ]
        }
      ]
    },
    {
      "cell_type": "code",
      "source": [
        "import matplotlib.pyplot as plt\n",
        "plt.plot(history.history['loss'], label='Train Loss')\n",
        "plt.plot(history.history['val_loss'], label='Validation Loss')\n",
        "plt.title('Train and Validation Loss')\n",
        "plt.xlabel('Epochs')\n",
        "plt.ylabel('Loss')\n",
        "plt.legend()\n",
        "plt.show()\n"
      ],
      "metadata": {
        "colab": {
          "base_uri": "https://localhost:8080/",
          "height": 472
        },
        "id": "qqsR6QQn29af",
        "outputId": "a63c964e-7ed8-44ab-cae7-dc10b556ed8f"
      },
      "id": "qqsR6QQn29af",
      "execution_count": 58,
      "outputs": [
        {
          "output_type": "display_data",
          "data": {
            "text/plain": [
              "<Figure size 640x480 with 1 Axes>"
            ],
            "image/png": "[encoded data removed]"
          },
          "metadata": {}
        }
      ]
    }
  ],
  "metadata": {
    "colab": {
      "provenance": []
    },
    "kernelspec": {
      "display_name": "Python 3",
      "language": "python",
      "name": "python3"
    },
    "language_info": {
      "codemirror_mode": {
        "name": "ipython",
        "version": 3
      },
      "file_extension": ".py",
      "mimetype": "text/x-python",
      "name": "python",
      "nbconvert_exporter": "python",
      "pygments_lexer": "ipython3",
      "version": "3.8.8"
    }
  },
  "nbformat": 4,
  "nbformat_minor": 5
}